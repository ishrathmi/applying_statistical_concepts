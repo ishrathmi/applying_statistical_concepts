{
 "cells": [
  {
   "cell_type": "code",
   "execution_count": 14,
   "id": "b767b796-d7f6-41ab-b65b-f3242514f726",
   "metadata": {},
   "outputs": [
    {
     "data": {
      "text/plain": [
       "[2, 4, 1, 8, 9, 6, 5, 7, 0, 3]"
      ]
     },
     "execution_count": 14,
     "metadata": {},
     "output_type": "execute_result"
    }
   ],
   "source": [
    "import numpy as np\n",
    "import pandas as pd\n",
    "\n",
    "np.random.seed(45)\n",
    "\n",
    "nums_0_to_9 = pd.Series([0, 1, 2, 3, 4, 5, 6, 7, 8, 9])\n",
    "\n",
    "random_numbers1 = nums_0_to_9.sample(n=10).to_list()\n",
    "random_numbers1"
   ]
  },
  {
   "cell_type": "code",
   "execution_count": 9,
   "id": "4c95ac2f-470f-4c36-bf78-2e826372765c",
   "metadata": {},
   "outputs": [
    {
     "data": {
      "text/plain": [
       "[3, 2, 4, 7, 8, 0, 6, 9, 5, 1]"
      ]
     },
     "execution_count": 9,
     "metadata": {},
     "output_type": "execute_result"
    }
   ],
   "source": [
    "np.random.seed(156)\n",
    "random_numbers2 = nums_0_to_9.sample(n=10).to_list()\n",
    "random_numbers2"
   ]
  }
 ],
 "metadata": {
  "kernelspec": {
   "display_name": "dsi",
   "language": "python",
   "name": "dsi"
  },
  "language_info": {
   "codemirror_mode": {
    "name": "ipython",
    "version": 3
   },
   "file_extension": ".py",
   "mimetype": "text/x-python",
   "name": "python",
   "nbconvert_exporter": "python",
   "pygments_lexer": "ipython3",
   "version": "3.12.3"
  }
 },
 "nbformat": 4,
 "nbformat_minor": 5
}
